{
  "nbformat": 4,
  "nbformat_minor": 0,
  "metadata": {
    "colab": {
      "name": "Nirmit_GRIP_Task2.ipynb",
      "provenance": []
    },
    "kernelspec": {
      "name": "python3",
      "display_name": "Python 3"
    },
    "language_info": {
      "name": "python"
    }
  },
  "cells": [
    {
      "cell_type": "markdown",
      "metadata": {
        "id": "1pYualRMi4k0"
      },
      "source": [
        "\n",
        "\n",
        "#**TASK 2**\n",
        "#**Prediction Using Unsupervised ML**\n",
        "Using K-Means clustering"
      ]
    },
    {
      "cell_type": "markdown",
      "metadata": {
        "id": "aD0gTWKIj2f6"
      },
      "source": [
        "#**BY GRIP @ The Sparks Foundation**\n",
        "\n",
        "Author - **Nirmit Gupta**"
      ]
    },
    {
      "cell_type": "markdown",
      "metadata": {
        "id": "IxC4sSX3kOhh"
      },
      "source": [
        "# **Importing the Dataset and required libraries**"
      ]
    },
    {
      "cell_type": "code",
      "metadata": {
        "colab": {
          "base_uri": "https://localhost:8080/",
          "height": 202
        },
        "id": "TOzMePrPWv76",
        "outputId": "b0f141e7-9be0-4770-8f81-b563a9859690"
      },
      "source": [
        "from sklearn import datasets\n",
        "import matplotlib.pyplot as plt\n",
        "import pandas as pd\n",
        "iris= datasets.load_iris()\n",
        "df= pd.DataFrame(iris.data,columns=iris.feature_names)\n",
        "df.head()"
      ],
      "execution_count": 27,
      "outputs": [
        {
          "output_type": "execute_result",
          "data": {
            "text/html": [
              "<div>\n",
              "<style scoped>\n",
              "    .dataframe tbody tr th:only-of-type {\n",
              "        vertical-align: middle;\n",
              "    }\n",
              "\n",
              "    .dataframe tbody tr th {\n",
              "        vertical-align: top;\n",
              "    }\n",
              "\n",
              "    .dataframe thead th {\n",
              "        text-align: right;\n",
              "    }\n",
              "</style>\n",
              "<table border=\"1\" class=\"dataframe\">\n",
              "  <thead>\n",
              "    <tr style=\"text-align: right;\">\n",
              "      <th></th>\n",
              "      <th>sepal length (cm)</th>\n",
              "      <th>sepal width (cm)</th>\n",
              "      <th>petal length (cm)</th>\n",
              "      <th>petal width (cm)</th>\n",
              "    </tr>\n",
              "  </thead>\n",
              "  <tbody>\n",
              "    <tr>\n",
              "      <th>0</th>\n",
              "      <td>5.1</td>\n",
              "      <td>3.5</td>\n",
              "      <td>1.4</td>\n",
              "      <td>0.2</td>\n",
              "    </tr>\n",
              "    <tr>\n",
              "      <th>1</th>\n",
              "      <td>4.9</td>\n",
              "      <td>3.0</td>\n",
              "      <td>1.4</td>\n",
              "      <td>0.2</td>\n",
              "    </tr>\n",
              "    <tr>\n",
              "      <th>2</th>\n",
              "      <td>4.7</td>\n",
              "      <td>3.2</td>\n",
              "      <td>1.3</td>\n",
              "      <td>0.2</td>\n",
              "    </tr>\n",
              "    <tr>\n",
              "      <th>3</th>\n",
              "      <td>4.6</td>\n",
              "      <td>3.1</td>\n",
              "      <td>1.5</td>\n",
              "      <td>0.2</td>\n",
              "    </tr>\n",
              "    <tr>\n",
              "      <th>4</th>\n",
              "      <td>5.0</td>\n",
              "      <td>3.6</td>\n",
              "      <td>1.4</td>\n",
              "      <td>0.2</td>\n",
              "    </tr>\n",
              "  </tbody>\n",
              "</table>\n",
              "</div>"
            ],
            "text/plain": [
              "   sepal length (cm)  sepal width (cm)  petal length (cm)  petal width (cm)\n",
              "0                5.1               3.5                1.4               0.2\n",
              "1                4.9               3.0                1.4               0.2\n",
              "2                4.7               3.2                1.3               0.2\n",
              "3                4.6               3.1                1.5               0.2\n",
              "4                5.0               3.6                1.4               0.2"
            ]
          },
          "metadata": {
            "tags": []
          },
          "execution_count": 27
        }
      ]
    },
    {
      "cell_type": "markdown",
      "metadata": {
        "id": "3aVPmVP4kawW"
      },
      "source": [
        "# **Finding optimum value of K for Kmeans**"
      ]
    },
    {
      "cell_type": "code",
      "metadata": {
        "id": "mBmGqxT6XcIA"
      },
      "source": [
        "a=df.iloc[:,[0,1,2,3]].values\n",
        "#print(a)\n",
        "from sklearn.cluster import KMeans\n",
        "dist= []\n",
        "for i in range (1,11):\n",
        "  kmeans= KMeans(n_clusters =i,init=\"k-means++\",max_iter=300,n_init= 10,random_state=0)\n",
        "  kmeans.fit(a)\n",
        "  dist.append(kmeans.inertia_)\n",
        "\n",
        "\n"
      ],
      "execution_count": 28,
      "outputs": []
    },
    {
      "cell_type": "markdown",
      "metadata": {
        "id": "i_K-gCaSktfp"
      },
      "source": [
        "# **Plotting the elbow method graph to decide the value of K**"
      ]
    },
    {
      "cell_type": "code",
      "metadata": {
        "colab": {
          "base_uri": "https://localhost:8080/",
          "height": 294
        },
        "id": "TqQgNpurkokV",
        "outputId": "dffbeb39-6df2-4699-b3d5-799134fe3f9d"
      },
      "source": [
        "plt.plot(range(1, 11), dist)\n",
        "plt.title('The elbow method')\n",
        "plt.xlabel('Number of clusters')\n",
        "plt.ylabel('distance between points') \n",
        "plt.show()"
      ],
      "execution_count": 29,
      "outputs": [
        {
          "output_type": "display_data",
          "data": {
            "image/png": "[encoded data removed]",
            "text/plain": [
              "<Figure size 432x288 with 1 Axes>"
            ]
          },
          "metadata": {
            "tags": [],
            "needs_background": "light"
          }
        }
      ]
    },
    {
      "cell_type": "markdown",
      "metadata": {
        "id": "FganGTa-k3GR"
      },
      "source": [
        "**The optimum vale of K as observed by the elbow method graph is 3**"
      ]
    },
    {
      "cell_type": "markdown",
      "metadata": {
        "id": "1YshxWbUlCNO"
      },
      "source": [
        "# **Applying KMeans to the dataset**"
      ]
    },
    {
      "cell_type": "code",
      "metadata": {
        "id": "tHykQY6SiCR8"
      },
      "source": [
        "#setting the value of k to 3\n",
        "kmeans= KMeans(n_clusters =3,init=\"k-means++\",max_iter=300,n_init= 10,random_state=0)\n",
        "y_kmeans=kmeans.fit_predict(a)\n"
      ],
      "execution_count": 25,
      "outputs": []
    },
    {
      "cell_type": "markdown",
      "metadata": {
        "id": "bv7fo_CplJfz"
      },
      "source": [
        "# **Plotting the clusters of dataset on a graph**"
      ]
    },
    {
      "cell_type": "code",
      "metadata": {
        "colab": {
          "base_uri": "https://localhost:8080/",
          "height": 285
        },
        "id": "F108EMNvcC8l",
        "outputId": "56d305f2-f2a3-4e1a-9838-caa7e480d84b"
      },
      "source": [
        "#plotting all the 3 clusters\n",
        "plt.scatter(a[y_kmeans==0,0],a[y_kmeans==0,1],s=100,color='red',label=\"Setosa\")\n",
        "plt.scatter(a[y_kmeans==1,0],a[y_kmeans==1,1],s=100,color='blue',label=\"Versicular\")\n",
        "plt.scatter(a[y_kmeans==2,0],a[y_kmeans==2,1],s=100,color='green',label=\"Virginica\")\n",
        "\n",
        "#plotting the centoids of the cluster\n",
        "plt.scatter(kmeans.cluster_centers_[:,0],kmeans.cluster_centers_[:,1],s=100,color='yellow',label=\"Centroids\")\n",
        "plt.legend()"
      ],
      "execution_count": 26,
      "outputs": [
        {
          "output_type": "execute_result",
          "data": {
            "text/plain": [
              "<matplotlib.legend.Legend at 0x7f87ff485f50>"
            ]
          },
          "metadata": {
            "tags": []
          },
          "execution_count": 26
        },
        {
          "output_type": "display_data",
          "data": {
            "image/png": "[encoded data removed]",
            "text/plain": [
              "<Figure size 432x288 with 1 Axes>"
            ]
          },
          "metadata": {
            "tags": [],
            "needs_background": "light"
          }
        }
      ]
    },
    {
      "cell_type": "code",
      "metadata": {
        "id": "Gf2EA-ePe7e2"
      },
      "source": [
        ""
      ],
      "execution_count": null,
      "outputs": []
    }
  ]
}